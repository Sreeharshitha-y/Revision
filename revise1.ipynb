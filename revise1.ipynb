{
  "nbformat": 4,
  "nbformat_minor": 0,
  "metadata": {
    "colab": {
      "provenance": []
    },
    "kernelspec": {
      "name": "python3",
      "display_name": "Python 3"
    },
    "language_info": {
      "name": "python"
    }
  },
  "cells": [
    {
      "cell_type": "code",
      "metadata": {
        "id": "UvYb5o-i-Zla"
      },
      "source": [
        "#revise"
      ],
      "execution_count": null,
      "outputs": []
    },
    {
      "cell_type": "code",
      "metadata": {
        "colab": {
          "base_uri": "https://localhost:8080/"
        },
        "id": "sY9GEGoJ-oZU",
        "outputId": "46684ed6-415f-4b8f-84b6-55528369cd32"
      },
      "source": [
        "#1\n",
        "from math import *\n",
        "c = 50\n",
        "s =  0\n",
        "h = 30\n",
        "l =[]\n",
        "D = input()\n",
        "d = list(map(int,D.split(',')))\n",
        "for i in d:\n",
        "  s = int(sqrt((2*c*i)/h))\n",
        "  l.append(str(s))\n",
        "print(','.join(l))\n",
        "\n",
        "\n",
        "\n"
      ],
      "execution_count": null,
      "outputs": [
        {
          "output_type": "stream",
          "text": [
            "100,150,180\n",
            "18,22,24\n"
          ],
          "name": "stdout"
        }
      ]
    },
    {
      "cell_type": "code",
      "metadata": {
        "colab": {
          "base_uri": "https://localhost:8080/"
        },
        "id": "KQV9Dd_Q_XCu",
        "outputId": "8809dbd1-2766-4e97-f3cb-093ce0394ae2"
      },
      "source": [
        "#2\n",
        "x,y = map(int,input().split(','))\n",
        "l=[]\n",
        "for i  in range (x):\n",
        "  t=[]\n",
        "  for j in range(y):\n",
        "    t.append(i*j)\n",
        "  l.append(t)\n",
        "print(l)\n",
        "\n"
      ],
      "execution_count": null,
      "outputs": [
        {
          "output_type": "stream",
          "text": [
            "3,5\n",
            "[[0, 0, 0, 0, 0], [0, 1, 2, 3, 4], [0, 2, 4, 6, 8]]\n"
          ],
          "name": "stdout"
        }
      ]
    },
    {
      "cell_type": "code",
      "metadata": {
        "colab": {
          "base_uri": "https://localhost:8080/"
        },
        "id": "tdH7SDaQFPI7",
        "outputId": "67c2a5df-1e88-4487-fcef-a980c1a38032"
      },
      "source": [
        "#3\n",
        "str = input().split(',')\n",
        "str.sort()\n",
        "print(','.join(str))"
      ],
      "execution_count": null,
      "outputs": [
        {
          "output_type": "stream",
          "text": [
            "without,hello,bag,world\n",
            "bag,hello,without,world\n"
          ],
          "name": "stdout"
        }
      ]
    },
    {
      "cell_type": "code",
      "metadata": {
        "colab": {
          "base_uri": "https://localhost:8080/"
        },
        "id": "j7T20RVhGOGR",
        "outputId": "5dc30a8d-c0e9-41a2-880a-2c088b9c57c6"
      },
      "source": [
        "# 4\n",
        "l =[]\n",
        "while True:\n",
        "  s = input()\n",
        "  if s:\n",
        "    l.append(s.upper())\n",
        "  else:\n",
        "    break\n",
        "\n",
        "for i in l:\n",
        "  print(i)\n"
      ],
      "execution_count": null,
      "outputs": [
        {
          "output_type": "stream",
          "text": [
            "hi , how's life going?\n",
            "good ! hbu?\n",
            "well, good , hope we get a good job\n",
            "yeah ! lets believe ourselfs\n",
            "\n",
            "HI , HOW'S LIFE GOING?\n",
            "GOOD ! HBU?\n",
            "WELL, GOOD , HOPE WE GET A GOOD JOB\n",
            "YEAH ! LETS BELIEVE OURSELFS\n"
          ],
          "name": "stdout"
        }
      ]
    },
    {
      "cell_type": "code",
      "metadata": {
        "colab": {
          "base_uri": "https://localhost:8080/"
        },
        "id": "sEeig5-tJo0b",
        "outputId": "fbe09a7c-a754-4301-cdea-7e60d839fb6a"
      },
      "source": [
        "# 5\n",
        "l=[]\n",
        "for i in range (2000,3201):\n",
        "  if(i%7==0 and i%5!=0):\n",
        "    l.append(i)\n",
        "print(','.join(l))"
      ],
      "execution_count": null,
      "outputs": [
        {
          "output_type": "stream",
          "text": [
            "[2002, 2009, 2016, 2023, 2037, 2044, 2051, 2058, 2072, 2079, 2086, 2093, 2107, 2114, 2121, 2128, 2142, 2149, 2156, 2163, 2177, 2184, 2191, 2198, 2212, 2219, 2226, 2233, 2247, 2254, 2261, 2268, 2282, 2289, 2296, 2303, 2317, 2324, 2331, 2338, 2352, 2359, 2366, 2373, 2387, 2394, 2401, 2408, 2422, 2429, 2436, 2443, 2457, 2464, 2471, 2478, 2492, 2499, 2506, 2513, 2527, 2534, 2541, 2548, 2562, 2569, 2576, 2583, 2597, 2604, 2611, 2618, 2632, 2639, 2646, 2653, 2667, 2674, 2681, 2688, 2702, 2709, 2716, 2723, 2737, 2744, 2751, 2758, 2772, 2779, 2786, 2793, 2807, 2814, 2821, 2828, 2842, 2849, 2856, 2863, 2877, 2884, 2891, 2898, 2912, 2919, 2926, 2933, 2947, 2954, 2961, 2968, 2982, 2989, 2996, 3003, 3017, 3024, 3031, 3038, 3052, 3059, 3066, 3073, 3087, 3094, 3101, 3108, 3122, 3129, 3136, 3143, 3157, 3164, 3171, 3178, 3192, 3199]\n"
          ],
          "name": "stdout"
        }
      ]
    },
    {
      "cell_type": "code",
      "metadata": {
        "colab": {
          "base_uri": "https://localhost:8080/"
        },
        "id": "Fy0XcVrML6r6",
        "outputId": "cbbc751b-40ac-4a2a-ffe4-b0c6e32fc182"
      },
      "source": [
        "f = 1\n",
        "n = int(input())\n",
        "for i in range(1,n+1):\n",
        "  f = f*i\n",
        "print(f)\n",
        "\n"
      ],
      "execution_count": null,
      "outputs": [
        {
          "output_type": "stream",
          "text": [
            "8\n",
            "40320\n"
          ],
          "name": "stdout"
        }
      ]
    },
    {
      "cell_type": "code",
      "metadata": {
        "id": "oRSG7XHNMpcx",
        "colab": {
          "base_uri": "https://localhost:8080/"
        },
        "outputId": "59a00beb-002d-42ed-efc3-825c61d73d61"
      },
      "source": [
        "\n",
        "def factorial(x):\n",
        "  if(x==0):\n",
        "    return 1\n",
        "  else:\n",
        "    return(x*factorial(x-1))\n",
        "\n",
        "n =int(input())\n",
        "factorial(n)\n"
      ],
      "execution_count": null,
      "outputs": [
        {
          "output_type": "stream",
          "text": [
            "6\n"
          ],
          "name": "stdout"
        },
        {
          "output_type": "execute_result",
          "data": {
            "text/plain": [
              "720"
            ]
          },
          "metadata": {
            "tags": []
          },
          "execution_count": 8
        }
      ]
    },
    {
      "cell_type": "code",
      "metadata": {
        "colab": {
          "base_uri": "https://localhost:8080/"
        },
        "id": "2EItaUqZ_sRA",
        "outputId": "690c71ee-5b6d-45a1-edbb-bd67323acaf5"
      },
      "source": [
        "n = int(input())\n",
        "d ={}#dictionary\n",
        "for i in range(n+1):\n",
        "  d[i]=i*i\n",
        "print(d)\n"
      ],
      "execution_count": null,
      "outputs": [
        {
          "output_type": "stream",
          "text": [
            "8\n",
            "{0: 0, 1: 1, 2: 4, 3: 9, 4: 16, 5: 25, 6: 36, 7: 49, 8: 64}\n"
          ],
          "name": "stdout"
        }
      ]
    },
    {
      "cell_type": "code",
      "metadata": {
        "colab": {
          "base_uri": "https://localhost:8080/"
        },
        "id": "e0sfHe7RBy92",
        "outputId": "c58dfeac-3c4b-4a70-f1f2-47c1bb4209a7"
      },
      "source": [
        "str = input().split(\".\")\n",
        "print(str)\n",
        "print(str[-1])"
      ],
      "execution_count": null,
      "outputs": [
        {
          "output_type": "stream",
          "text": [
            "abc.news\n",
            "['abc', 'news']\n",
            "news\n"
          ],
          "name": "stdout"
        }
      ]
    },
    {
      "cell_type": "code",
      "metadata": {
        "id": "5iGMntmTE_W9",
        "colab": {
          "base_uri": "https://localhost:8080/"
        },
        "outputId": "5790627d-c187-457a-85e9-c8868f969e49"
      },
      "source": [
        "# linear search\n",
        "pos =0\n",
        "def search(list,x):\n",
        "  for i in range(len(list)):\n",
        "    if(x == list[i]):\n",
        "      globals()['pos']=i\n",
        "      return True\n",
        "  else:\n",
        "    return False\n",
        "\n",
        "\n",
        "list = [78,34,56,90,21,34]\n",
        "x = int(input())\n",
        "if search(list,x):\n",
        "  print(\"found :\",x,\"at:\",pos+1)\n",
        "else:\n",
        "   print(\"not found\")"
      ],
      "execution_count": null,
      "outputs": [
        {
          "output_type": "stream",
          "text": [
            "56\n",
            "found : 56 at: 3\n"
          ],
          "name": "stdout"
        }
      ]
    },
    {
      "cell_type": "code",
      "metadata": {
        "colab": {
          "base_uri": "https://localhost:8080/"
        },
        "id": "h57oGEVJTh4d",
        "outputId": "00c3620d-8c8f-4633-d5ba-48ee8ee9c51a"
      },
      "source": [
        "# binary search\n",
        "def bsearch(num,x):\n",
        "  l = 0\n",
        "  u = len(num)-1\n",
        "  while l<=u:\n",
        "    mid = (l+u)//2\n",
        "    if(x == num[mid]):\n",
        "      globals()['pos']=mid\n",
        "      return True\n",
        "    else:\n",
        "      if(x>num[mid]):\n",
        "        l = mid+1\n",
        "      else:\n",
        "         u = mid-1\n",
        "  return False\n",
        "\n",
        "\n",
        "pos =0\n",
        "num = [30,45,67,21,34,89,90]\n",
        "num.sort()\n",
        "print(num)\n",
        "x = int(input())\n",
        "if bsearch(num,x):\n",
        "  print(\"found :\",x,\" at :\",pos+1)\n",
        "else:\n",
        "  print(\"not found\")\n",
        "\n"
      ],
      "execution_count": null,
      "outputs": [
        {
          "output_type": "stream",
          "text": [
            "[21, 30, 34, 45, 67, 89, 90]\n",
            "45\n",
            "found : 45  at : 4\n"
          ],
          "name": "stdout"
        }
      ]
    },
    {
      "cell_type": "code",
      "metadata": {
        "colab": {
          "base_uri": "https://localhost:8080/"
        },
        "id": "egAF8JO_VpRL",
        "outputId": "44863ddc-edfc-4f77-946f-966e36f9cff5"
      },
      "source": [
        "# bubble sort\n",
        "def sort(n):\n",
        "  for i in range(len(n)-1,0,-1):\n",
        "    for j in range(i):\n",
        "      if(n[j]>n[j+1]):\n",
        "        temp = n[j]\n",
        "        n[j] = n[j+1]\n",
        "        n[j+1] = temp\n",
        "\n",
        "\n",
        "\n",
        "n =[89,45,32,89,12,46]\n",
        "sort(n)\n",
        "print(n)\n"
      ],
      "execution_count": null,
      "outputs": [
        {
          "output_type": "stream",
          "text": [
            "[12, 32, 45, 46, 89, 89]\n"
          ],
          "name": "stdout"
        }
      ]
    },
    {
      "cell_type": "code",
      "metadata": {
        "colab": {
          "base_uri": "https://localhost:8080/"
        },
        "id": "LG_Yk5qpY306",
        "outputId": "332978c7-4c36-4f17-8fc7-a8befa899644"
      },
      "source": [
        "#sorting an list\n",
        "l = list(map(int,input().split(',')))\n",
        "l.sort()\n",
        "print(l)\n"
      ],
      "execution_count": null,
      "outputs": [
        {
          "output_type": "stream",
          "text": [
            "6790,3245,6712,8967,4321\n",
            "[3245, 4321, 6712, 6790, 8967]\n"
          ],
          "name": "stdout"
        }
      ]
    },
    {
      "cell_type": "code",
      "metadata": {
        "colab": {
          "base_uri": "https://localhost:8080/"
        },
        "id": "rLu6vKJtZU4D",
        "outputId": "70c68b28-5f89-4498-dfa6-5ea54abb663a"
      },
      "source": [
        "#selection sort\n",
        "def sort(a):\n",
        "  for i in range(len(a)):\n",
        "    minpos = i\n",
        "    for j in range(i,len(a)):\n",
        "      if(a[j]<a[minpos]):\n",
        "        minpos = j\n",
        "    temp = a[i]\n",
        "    a[i] = a[minpos]\n",
        "    a[minpos]=temp\n",
        "\n",
        "\n",
        "\n",
        "a = [90,34,76,21,35,89]\n",
        "sort(a)\n",
        "print(a)"
      ],
      "execution_count": null,
      "outputs": [
        {
          "output_type": "stream",
          "text": [
            "[21, 34, 35, 76, 89, 90]\n"
          ],
          "name": "stdout"
        }
      ]
    },
    {
      "cell_type": "code",
      "metadata": {
        "id": "mTgRplrQbCC6",
        "colab": {
          "base_uri": "https://localhost:8080/"
        },
        "outputId": "9d969d06-c9a1-4d1c-96c0-d0b6166efb02"
      },
      "source": [
        "# bubble sort\n",
        "t = []\n",
        "def bubble(l):\n",
        "  for i in range(len(l)-1,0,-1):\n",
        "    for j in range(i):\n",
        "      if(l[j]>l[j+1]):\n",
        "        t = l[j]\n",
        "        l[j] = l[j+1]\n",
        "        l[j+1] = t\n",
        "  print(l)\n",
        "\n",
        "\n",
        "\n",
        "\n",
        "\n",
        "\n",
        "\n",
        "l = []\n",
        "n = int(input())\n",
        "for i in range(n):\n",
        "  x = int(input())\n",
        "  l.append(x)\n",
        "print(l)\n",
        "\n",
        "bubble(l)\n",
        "\n",
        "\n"
      ],
      "execution_count": null,
      "outputs": [
        {
          "output_type": "stream",
          "text": [
            "4\n",
            "78\n",
            "90\n",
            "32\n",
            "12\n",
            "[78, 90, 32, 12]\n",
            "[12, 32, 78, 90]\n"
          ],
          "name": "stdout"
        }
      ]
    },
    {
      "cell_type": "code",
      "metadata": {
        "colab": {
          "base_uri": "https://localhost:8080/"
        },
        "id": "LVkJPBGtlj8y",
        "outputId": "7c05d4da-776e-4e07-f41c-1c9ca183844b"
      },
      "source": [
        "#array\n",
        "from array import *\n",
        "a = array(\"i\",[])\n",
        "n=int(input())\n",
        "for i in range(n):\n",
        "  z = int(input())\n",
        "  a.append(z)\n",
        "print(a)"
      ],
      "execution_count": null,
      "outputs": [
        {
          "output_type": "stream",
          "text": [
            "4\n",
            "6\n",
            "78\n",
            "32\n",
            "12\n",
            "array('i', [6, 78, 32, 12])\n"
          ],
          "name": "stdout"
        }
      ]
    },
    {
      "cell_type": "code",
      "metadata": {
        "colab": {
          "base_uri": "https://localhost:8080/",
          "height": 53
        },
        "id": "atrunnC8kFAp",
        "outputId": "77a022ed-2d7f-4816-acba-b732804382ac"
      },
      "source": [
        "#queue // first in first out-->list\n",
        "q = []\n",
        "q.append(\"w\")\n",
        "q.append(\"e\")\n",
        "print(q)\n",
        "q.pop(0)\n"
      ],
      "execution_count": null,
      "outputs": [
        {
          "output_type": "stream",
          "text": [
            "['w', 'e']\n"
          ],
          "name": "stdout"
        },
        {
          "output_type": "execute_result",
          "data": {
            "application/vnd.google.colaboratory.intrinsic+json": {
              "type": "string"
            },
            "text/plain": [
              "'w'"
            ]
          },
          "metadata": {
            "tags": []
          },
          "execution_count": 24
        }
      ]
    },
    {
      "cell_type": "code",
      "metadata": {
        "colab": {
          "base_uri": "https://localhost:8080/"
        },
        "id": "dg2Q0-wCwY2D",
        "outputId": "9f7963a4-bc3b-405d-94ea-4544253d213c"
      },
      "source": [
        "#deque\n",
        "from collections import *\n",
        "que = deque()\n",
        "que.append(\"r\")\n",
        "que.append(\"e\")\n",
        "que.append(\"l\")\n",
        "que.remove(\"r\")\n",
        "print(que)\n",
        "print(que.popleft())\n",
        "print(que.popleft())"
      ],
      "execution_count": null,
      "outputs": [
        {
          "output_type": "stream",
          "text": [
            "deque(['e', 'l'])\n",
            "e\n",
            "l\n"
          ],
          "name": "stdout"
        }
      ]
    },
    {
      "cell_type": "code",
      "metadata": {
        "colab": {
          "base_uri": "https://localhost:8080/"
        },
        "id": "vKBeGYyqxJO9",
        "outputId": "debfa5f3-2531-47a2-c808-a244b380e9cf"
      },
      "source": [
        "#queue\n",
        "from queue import Queue\n",
        "queu = Queue(maxsize=2)\n",
        "print(queu.qsize())\n",
        "queu.put(\"a\")\n",
        "queu.put(\"b\")\n",
        "print(queu.full())\n",
        "print(queu.get())\n",
        "print(queu.get())\n",
        "print(\"if empty: \",queu.empty())\n"
      ],
      "execution_count": null,
      "outputs": [
        {
          "output_type": "stream",
          "text": [
            "0\n",
            "True\n",
            "a\n",
            "b\n",
            "if empty:  True\n"
          ],
          "name": "stdout"
        }
      ]
    },
    {
      "cell_type": "code",
      "metadata": {
        "id": "r-QXBx83zNE6",
        "colab": {
          "base_uri": "https://localhost:8080/"
        },
        "outputId": "11bc3a5e-e63b-41a3-a17e-4d7a432c4319"
      },
      "source": [
        "#insertion sort\n",
        "def ins(l):\n",
        "  for i in range(1,len(l)):\n",
        "    key=l[i]\n",
        "    j=i-1\n",
        "    while(j>=0 and l[j]>key):\n",
        "      l[j+1]=l[j]\n",
        "      j-=1\n",
        "\n",
        "    l[j+1]=key\n",
        "\n",
        "\n",
        "l = [4,3,2,10,12,1,5,6]\n",
        "ins(l)\n",
        "print(l)\n"
      ],
      "execution_count": null,
      "outputs": [
        {
          "output_type": "stream",
          "text": [
            "[1, 2, 3, 4, 5, 6, 10, 12]\n"
          ],
          "name": "stdout"
        }
      ]
    },
    {
      "cell_type": "code",
      "metadata": {
        "colab": {
          "base_uri": "https://localhost:8080/"
        },
        "id": "wJ-3pApMCtNk",
        "outputId": "e5e3cf23-a675-450a-e335-78efc606173d"
      },
      "source": [
        "#mergesort\n",
        "\n",
        "def mergesort(arr):\n",
        "  if(len(arr)>1):\n",
        "    mid = len(arr)//2\n",
        "    l = arr[:mid]\n",
        "    r = arr[mid:]\n",
        "\n",
        "    mergesort(l)\n",
        "    mergesort(r)\n",
        "\n",
        "    i =j = k =0\n",
        "    while(i<len(l) and j<len(r)):\n",
        "      if(l[i]<r[j]):\n",
        "        arr[k]=l[i]\n",
        "        i+=1\n",
        "      else:\n",
        "        arr[k]=r[j]\n",
        "        j+=1\n",
        "      k+=1\n",
        "\n",
        "\n",
        "    while(i<len(l)):\n",
        "      arr[k]=l[i]\n",
        "      i+=1\n",
        "      k+=1\n",
        "    while(j<len(r)):\n",
        "      arr[k] = r[j]\n",
        "      j+=1\n",
        "      k+=1\n",
        "\n",
        "\n",
        "\n",
        "arr = [2,4,6,1,9,5]\n",
        "mergesort(arr)\n",
        "print(arr)\n"
      ],
      "execution_count": null,
      "outputs": [
        {
          "output_type": "stream",
          "text": [
            "[1, 2, 4, 5, 6, 9]\n"
          ],
          "name": "stdout"
        }
      ]
    },
    {
      "cell_type": "code",
      "metadata": {
        "id": "qsvjWkDoMt_z",
        "colab": {
          "base_uri": "https://localhost:8080/"
        },
        "outputId": "687f2a1a-bdf9-40c6-b363-a45f54503bfe"
      },
      "source": [
        "#insertion sort\n",
        "\n",
        "def insert(k):\n",
        "  for i in range(1,len(k)):\n",
        "    key=k[i]\n",
        "    j=i-1\n",
        "    while(j>=0 and k[j]>key):\n",
        "      k[j+1]=k[j]\n",
        "      j-=1\n",
        "    k[j+1]=key\n",
        "\n",
        "\n",
        "k=[2,5,3,8,9,1]\n",
        "insert(k)\n",
        "print(k)"
      ],
      "execution_count": null,
      "outputs": [
        {
          "output_type": "stream",
          "text": [
            "[1, 2, 3, 5, 8, 9]\n"
          ],
          "name": "stdout"
        }
      ]
    },
    {
      "cell_type": "code",
      "metadata": {
        "colab": {
          "base_uri": "https://localhost:8080/"
        },
        "id": "YH0V7n6p2BFd",
        "outputId": "96207bdc-64c0-4c83-9903-e3234eaa036e"
      },
      "source": [
        "# merge sort\n",
        "def msort(a):\n",
        "  if(len(a)>1):\n",
        "    mid = len(a)//2\n",
        "\n",
        "    L=a[:mid]\n",
        "    R=a[mid:]\n",
        "\n",
        "    msort(L)\n",
        "    msort(R)\n",
        "\n",
        "\n",
        "    i=j=k=0\n",
        "    while(i<len(L) and j<len(R)):\n",
        "      if(L[i]<R[j]):\n",
        "        a[k]=L[i]\n",
        "        i+=1\n",
        "      else:\n",
        "        a[k]=R[j]\n",
        "        j+=1\n",
        "      k+=1\n",
        "\n",
        "    while(i<len(L)):\n",
        "     # if(i<L[i]):\n",
        "        a[k]=L[i]\n",
        "        i+=1\n",
        "        k+=1\n",
        "    while(j<len(R)):\n",
        "      #if(j<R[j]):\n",
        "        a[k]=R[j]\n",
        "        j+=1\n",
        "        k+=1\n",
        "\n",
        "\n",
        "\n",
        "\n",
        "\n",
        "a=[5,3,2,1,6,8,9,0]\n",
        "msort(a)\n",
        "print(a)"
      ],
      "execution_count": null,
      "outputs": [
        {
          "output_type": "stream",
          "text": [
            "[0, 1, 2, 3, 5, 6, 8, 9]\n"
          ],
          "name": "stdout"
        }
      ]
    },
    {
      "cell_type": "code",
      "metadata": {
        "colab": {
          "base_uri": "https://localhost:8080/"
        },
        "id": "3dyLnnW-CFdC",
        "outputId": "65057009-133c-4323-c4ed-563b250d8dae"
      },
      "source": [
        "h=[1,3,2]\n",
        "if(len(h)==len(set(h))):\n",
        "  print(\"no\")\n",
        "else:\n",
        "  print(\"yes\")"
      ],
      "execution_count": null,
      "outputs": [
        {
          "output_type": "stream",
          "text": [
            "no\n"
          ],
          "name": "stdout"
        }
      ]
    },
    {
      "cell_type": "code",
      "metadata": {
        "id": "sMlyqiopHw84",
        "colab": {
          "base_uri": "https://localhost:8080/"
        },
        "outputId": "4aab6817-af9f-43dc-bb39-92f701e7acf2"
      },
      "source": [
        "u = [6,6,6,4,4,4,4,4,1]\n",
        "c=0\n",
        "max=0\n",
        "l =[]\n",
        "u.sort()\n",
        "print(u)\n",
        "for i in range(0,len(u)):\n",
        "  for j in range(i):\n",
        "     if(u[i]==u[j]):\n",
        "       c+=1\n",
        "       l.append(u[i])\n",
        "       if(c>max):\n",
        "          max =c\n",
        "print(max)\n",
        "\n",
        "\n",
        "\n"
      ],
      "execution_count": null,
      "outputs": [
        {
          "output_type": "stream",
          "text": [
            "[1, 4, 4, 4, 4, 4, 6, 6, 6]\n",
            "13\n"
          ],
          "name": "stdout"
        }
      ]
    },
    {
      "cell_type": "code",
      "metadata": {
        "id": "XgArvRLvjpRK",
        "colab": {
          "base_uri": "https://localhost:8080/"
        },
        "outputId": "3a01f126-8265-41e4-d1e3-19fbd0c7b107"
      },
      "source": [
        "#shell sort\n",
        "\n",
        "def shellsort(a):\n",
        "  gap = len(a)//2\n",
        "\n",
        "  while(gap>0):\n",
        "    i=0\n",
        "    j=gap\n",
        "    while(j<len(a)):\n",
        "      if(a[i]>a[j]):\n",
        "        a[i],a[j]=a[j],a[i]\n",
        "      i+=1\n",
        "      j+=1\n",
        "\n",
        "    while((i-gap)!=-1):\n",
        "      if(a[i-gap]>a[i]):\n",
        "        a[i-gap],a[i]=a[i],a[i-gap]\n",
        "      i-=1\n",
        "    gap//=2\n",
        "\n",
        "a=[9,3,0,2,7,5]\n",
        "shellsort(a)\n",
        "print(a)"
      ],
      "execution_count": null,
      "outputs": [
        {
          "output_type": "stream",
          "text": [
            "[0, 2, 3, 5, 7, 9]\n"
          ],
          "name": "stdout"
        }
      ]
    },
    {
      "cell_type": "code",
      "metadata": {
        "id": "s0XNELsNsaVT",
        "colab": {
          "base_uri": "https://localhost:8080/"
        },
        "outputId": "f8c406e3-cb5a-47af-9b53-b9124a3dccb6"
      },
      "source": [
        "#interpolation search\n",
        "def interpos(a,l,h,x):\n",
        "  if(l<=h and x>=a[l] and x<=a[h]):\n",
        "    pos = l+((h-l)//(a[h]-a[l]))*(x-a[l])\n",
        "\n",
        "    if(a[pos]==x):\n",
        "      return pos\n",
        "\n",
        "    if(a[pos]<x):\n",
        "      return interpos(a,pos+1,h,x)\n",
        "    if(a[pos]>x):\n",
        "      return interpos(a,l,pos-1,x)\n",
        "\n",
        "  return -1\n",
        "\n",
        "a =[1,2,3,4,5,6,7,8]\n",
        "x =8\n",
        "n = len(a)-1\n",
        "ind = interpos(a,0,n,x)\n",
        "if(ind!=-1):\n",
        "  print(\"element found\",ind)\n",
        "else:\n",
        "  print(\"not found\")"
      ],
      "execution_count": null,
      "outputs": [
        {
          "output_type": "stream",
          "text": [
            "element found 7\n"
          ],
          "name": "stdout"
        }
      ]
    },
    {
      "cell_type": "code",
      "metadata": {
        "id": "37vevX6C6eKm"
      },
      "source": [
        "D = input()\n",
        "d = list(map(int,D.split(',')))\n",
        "for i in d:\n",
        "  s = int(sqrt((2*c*i)/h))\n",
        "  l.append(str(s))\n",
        "print(','.join(l))"
      ],
      "execution_count": null,
      "outputs": []
    },
    {
      "cell_type": "code",
      "metadata": {
        "id": "-Dk0x-Z7QMTq",
        "colab": {
          "base_uri": "https://localhost:8080/"
        },
        "outputId": "ce1e7337-6348-43dc-d59a-3e34c72b52eb"
      },
      "source": [
        "l =[]\n",
        "t =[]\n",
        "n =int(input())\n",
        "s = str(n)\n",
        "for i in s:\n",
        "    l.append(int(i))\n",
        "l.sort(reverse = True)\n",
        "for i in l:\n",
        "  t.append(str(i))\n",
        "print('' . join(t))\n",
        ""
      ],
      "execution_count": null,
      "outputs": [
        {
          "output_type": "stream",
          "name": "stdout",
          "text": [
            "343579\n",
            "975433\n"
          ]
        }
      ]
    }
  ]
}